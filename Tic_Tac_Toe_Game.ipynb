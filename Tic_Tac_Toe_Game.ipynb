{
 "cells": [
  {
   "cell_type": "code",
   "execution_count": 22,
   "id": "6c2c25a2",
   "metadata": {},
   "outputs": [
    {
     "name": "stdout",
     "output_type": "stream",
     "text": [
      "Let's start the game\n",
      " | | \n",
      "-|-|-\n",
      " | | \n",
      "-|-|-\n",
      " | | \n",
      "Player 01, Choose the position : P7\n",
      "\n",
      "\n",
      " | | \n",
      "-|-|-\n",
      " | | \n",
      "-|-|-\n",
      "X| | \n",
      "Player 02, Choose the position : P1\n",
      "\n",
      "\n",
      "O| | \n",
      "-|-|-\n",
      " | | \n",
      "-|-|-\n",
      "X| | \n",
      "Player 01, Choose the position : P2\n",
      "\n",
      "\n",
      "O|X| \n",
      "-|-|-\n",
      " | | \n",
      "-|-|-\n",
      "X| | \n",
      "Player 02, Choose the position : P5\n",
      "\n",
      "\n",
      "O|X| \n",
      "-|-|-\n",
      " |O| \n",
      "-|-|-\n",
      "X| | \n",
      "Player 01, Choose the position : P9\n",
      "\n",
      "\n",
      "O|X| \n",
      "-|-|-\n",
      " |O| \n",
      "-|-|-\n",
      "X| |X\n",
      "Player 02, Choose the position : P4\n",
      "\n",
      "\n",
      "O|X| \n",
      "-|-|-\n",
      "O|O| \n",
      "-|-|-\n",
      "X| |X\n",
      "Player 01, Choose the position : P6\n",
      "\n",
      "\n",
      "O|X| \n",
      "-|-|-\n",
      "O|O|X\n",
      "-|-|-\n",
      "X| |X\n",
      "Player 02, Choose the position : P8\n",
      "\n",
      "\n",
      "O|X| \n",
      "-|-|-\n",
      "O|O|X\n",
      "-|-|-\n",
      "X|O|X\n",
      "Player 01, Choose the position : P3\n",
      "\n",
      "\n",
      "O|X|X\n",
      "-|-|-\n",
      "O|O|X\n",
      "-|-|-\n",
      "X|O|X\n",
      "Player 01 won the game (Vertical)\n"
     ]
    }
   ],
   "source": [
    "board={\"P1\":\" \",\"P2\":\" \",\"P3\":\" \",\n",
    "       \"P4\":\" \",\"P5\":\" \",\"P6\":\" \",\n",
    "       \"P7\":\" \",\"P8\":\" \",\"P9\":\" \"\n",
    "      }\n",
    "\n",
    "player=1\n",
    "count_moves=0\n",
    "win=False\n",
    "\n",
    "def check_win():\n",
    "    global win\n",
    "    \n",
    "    #horizontal\n",
    "    if (all(board[k]==\"X\" for k in [\"P1\",\"P2\",\"P3\"])) or (all(board[k]==\"X\" for k in [\"P4\",\"P5\",\"P6\"])) or (all(board[k]==\"X\" for k in [\"P7\",\"P8\",\"P9\"])):\n",
    "        print(\"Player 01 won the game (Horizontal)\")\n",
    "        win=True\n",
    "    if (all(board[k]==\"O\" for k in [\"P1\",\"P2\",\"P3\"])) or (all(board[k]==\"O\" for k in [\"P4\",\"P5\",\"P6\"])) or (all(board[k]==\"O\" for k in [\"P7\",\"P8\",\"P9\"])):\n",
    "        print(\"Player 02 won the game (Horizontal)\")\n",
    "        win=True\n",
    "        \n",
    "    #vertical\n",
    "    if (all(board[k]==\"X\" for k in [\"P1\",\"P4\",\"P7\"])) or (all(board[k]==\"X\" for k in [\"P2\",\"P5\",\"P8\"])) or (all(board[k]==\"X\" for k in [\"P3\",\"P6\",\"P9\"])):\n",
    "        print(\"Player 01 won the game (Vertical)\")\n",
    "        win=True\n",
    "    if (all(board[k]==\"O\" for k in [\"P1\",\"P4\",\"P7\"])) or (all(board[k]==\"O\" for k in [\"P2\",\"P5\",\"P8\"])) or (all(board[k]==\"O\" for k in [\"P3\",\"P6\",\"P9\"])):\n",
    "        print(\"Player 02 won the game (Vertical)\")\n",
    "        win=True\n",
    "        \n",
    "    #diagnol\n",
    "    if (all(board[k]==\"X\" for k in [\"P1\",\"P5\",\"P9\"])) or (all(board[k]==\"X\" for k in [\"P3\",\"P5\",\"P7\"])):\n",
    "        print(\"Player 01 won the game (Diagnol)\")\n",
    "        win=True\n",
    "    if (all(board[k]==\"O\" for k in [\"P1\",\"P5\",\"P9\"])) or (all(board[k]==\"O\" for k in [\"P3\",\"P5\",\"P7\"])):\n",
    "        print(\"Player 02 won the game (Diagnol)\")\n",
    "        win=True\n",
    "\n",
    "print(\"Let's start the game\")\n",
    "\n",
    "while True:\n",
    "    print(board[\"P1\"]+\"|\"+board[\"P2\"]+\"|\"+board[\"P3\"])\n",
    "    print(\"-|-|-\")\n",
    "    print(board[\"P4\"]+\"|\"+board[\"P5\"]+\"|\"+board[\"P6\"])\n",
    "    print(\"-|-|-\")\n",
    "    print(board[\"P7\"]+\"|\"+board[\"P8\"]+\"|\"+board[\"P9\"])\n",
    "    \n",
    "    check_win()\n",
    "    \n",
    "    if count_moves==9 or win:\n",
    "        break\n",
    "        \n",
    "    while True:\n",
    "        if player==1:\n",
    "            a=input(\"Player 01, Choose the position : \").upper()\n",
    "            \n",
    "            if (a in board) and (board[a]==\" \"):\n",
    "                board[a]=\"X\"\n",
    "                player=2\n",
    "                break\n",
    "            else:\n",
    "                print(\"Invalid Position\")\n",
    "                continue\n",
    "                \n",
    "        else:\n",
    "            b=input(\"Player 02, Choose the position : \").upper()\n",
    "            \n",
    "            if (b in board) and (board[b]==\" \"):\n",
    "                board[b]=\"O\"\n",
    "                player=1\n",
    "                break\n",
    "            else:\n",
    "                print(\"Invalid Position\")\n",
    "                continue\n",
    "    \n",
    "    count_moves+=1\n",
    "    print()\n",
    "    print()"
   ]
  },
  {
   "cell_type": "code",
   "execution_count": null,
   "id": "9a60a835",
   "metadata": {},
   "outputs": [],
   "source": []
  },
  {
   "cell_type": "code",
   "execution_count": null,
   "id": "de10b298",
   "metadata": {},
   "outputs": [],
   "source": []
  },
  {
   "cell_type": "code",
   "execution_count": null,
   "id": "27a80deb",
   "metadata": {},
   "outputs": [],
   "source": []
  },
  {
   "cell_type": "code",
   "execution_count": null,
   "id": "c477e0aa",
   "metadata": {},
   "outputs": [],
   "source": []
  },
  {
   "cell_type": "code",
   "execution_count": null,
   "id": "0fa5e701",
   "metadata": {},
   "outputs": [],
   "source": []
  },
  {
   "cell_type": "code",
   "execution_count": null,
   "id": "378b525c",
   "metadata": {},
   "outputs": [],
   "source": []
  },
  {
   "cell_type": "code",
   "execution_count": null,
   "id": "c8efd66d",
   "metadata": {},
   "outputs": [],
   "source": []
  },
  {
   "cell_type": "code",
   "execution_count": null,
   "id": "01b79039",
   "metadata": {},
   "outputs": [],
   "source": []
  },
  {
   "cell_type": "code",
   "execution_count": null,
   "id": "96ddd7f8",
   "metadata": {},
   "outputs": [],
   "source": []
  },
  {
   "cell_type": "code",
   "execution_count": 3,
   "id": "a1064f5a",
   "metadata": {},
   "outputs": [],
   "source": [
    "d={\"A\":10,\"B\":10,\"C\":10,\"D\":20,\"E\":20}"
   ]
  },
  {
   "cell_type": "code",
   "execution_count": 4,
   "id": "2d8fbee7",
   "metadata": {},
   "outputs": [
    {
     "data": {
      "text/plain": [
       "{'A': 10, 'B': 10, 'C': 10, 'D': 20, 'E': 20}"
      ]
     },
     "execution_count": 4,
     "metadata": {},
     "output_type": "execute_result"
    }
   ],
   "source": [
    "d"
   ]
  },
  {
   "cell_type": "code",
   "execution_count": 14,
   "id": "6a09165c",
   "metadata": {},
   "outputs": [
    {
     "data": {
      "text/plain": [
       "True"
      ]
     },
     "execution_count": 14,
     "metadata": {},
     "output_type": "execute_result"
    }
   ],
   "source": [
    "all([d[k]==10 for k in [\"A\",\"B\",\"C\"]])"
   ]
  },
  {
   "cell_type": "code",
   "execution_count": null,
   "id": "242ec647",
   "metadata": {},
   "outputs": [],
   "source": []
  }
 ],
 "metadata": {
  "kernelspec": {
   "display_name": "Python 3",
   "language": "python",
   "name": "python3"
  },
  "language_info": {
   "codemirror_mode": {
    "name": "ipython",
    "version": 3
   },
   "file_extension": ".py",
   "mimetype": "text/x-python",
   "name": "python",
   "nbconvert_exporter": "python",
   "pygments_lexer": "ipython3",
   "version": "3.8.8"
  }
 },
 "nbformat": 4,
 "nbformat_minor": 5
}
