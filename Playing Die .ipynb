{
 "cells": [
  {
   "cell_type": "code",
   "execution_count": 9,
   "id": "ec21abd5",
   "metadata": {},
   "outputs": [],
   "source": [
    "import random\n",
    "\n",
    "roll_die=lambda : random.randint(1,6)\n",
    "\n",
    "def game(x):\n",
    "\n",
    "    player01=input(\"Enter the name : \")\n",
    "    player02=input(\"Enter the name : \")\n",
    "\n",
    "    p1win=0\n",
    "    p2win=0\n",
    "    rounds=x\n",
    "    rn=1\n",
    "\n",
    "    while rn<=rounds:\n",
    "\n",
    "        print(\"------Round number {}\".format(rn))\n",
    "\n",
    "        if rn!=1:\n",
    "            input(\"Just press ENTER to go next round\")\n",
    "\n",
    "        p1=roll_die()\n",
    "        p2=roll_die()\n",
    "        print(\"{} roll: {} & {} roll: {}\".format(player01,p1,player02,p2))\n",
    "\n",
    "        if p1==p2:\n",
    "            print(\"The round was drawn\")\n",
    "        elif p1>p2:\n",
    "            print(\"Round was won by {}\".format(player01))\n",
    "            p1win+=1\n",
    "        else:\n",
    "            print(\"Round was won by {}\".format(player02))\n",
    "            p2win+=1\n",
    "\n",
    "        rn+=1\n",
    "\n",
    "        print(\"********************************************\")\n",
    "\n",
    "    if p1win==p2win:\n",
    "        print(\"The game was drawn\")\n",
    "    elif p1win>p2win:\n",
    "        print(\"Congratulations! The game was won by {} {} to {}\".format(player01,p1win,p2win))\n",
    "    else:\n",
    "        print(\"Congratulations! The game was won by {} {} to {}\".format(player02,p2win,p1win))"
   ]
  },
  {
   "cell_type": "code",
   "execution_count": 10,
   "id": "058932f1",
   "metadata": {},
   "outputs": [
    {
     "name": "stdout",
     "output_type": "stream",
     "text": [
      "Enter the name : Sam\n",
      "Enter the name : Mas\n",
      "------Round number 1\n",
      "Sam roll: 2 & Mas roll: 5\n",
      "Round was won by Mas\n",
      "********************************************\n",
      "------Round number 2\n",
      "Just press ENTER to go next round\n",
      "Sam roll: 6 & Mas roll: 5\n",
      "Round was won by Sam\n",
      "********************************************\n",
      "------Round number 3\n",
      "Just press ENTER to go next round\n",
      "Sam roll: 5 & Mas roll: 2\n",
      "Round was won by Sam\n",
      "********************************************\n",
      "------Round number 4\n",
      "Just press ENTER to go next round\n",
      "Sam roll: 6 & Mas roll: 5\n",
      "Round was won by Sam\n",
      "********************************************\n",
      "------Round number 5\n",
      "Just press ENTER to go next round\n",
      "Sam roll: 2 & Mas roll: 4\n",
      "Round was won by Mas\n",
      "********************************************\n",
      "Congratulations! The game was won by Sam 3 to 2\n"
     ]
    }
   ],
   "source": [
    "game(5)"
   ]
  },
  {
   "cell_type": "code",
   "execution_count": null,
   "id": "f7408e5b",
   "metadata": {},
   "outputs": [],
   "source": []
  }
 ],
 "metadata": {
  "kernelspec": {
   "display_name": "Python 3",
   "language": "python",
   "name": "python3"
  },
  "language_info": {
   "codemirror_mode": {
    "name": "ipython",
    "version": 3
   },
   "file_extension": ".py",
   "mimetype": "text/x-python",
   "name": "python",
   "nbconvert_exporter": "python",
   "pygments_lexer": "ipython3",
   "version": "3.8.8"
  }
 },
 "nbformat": 4,
 "nbformat_minor": 5
}
